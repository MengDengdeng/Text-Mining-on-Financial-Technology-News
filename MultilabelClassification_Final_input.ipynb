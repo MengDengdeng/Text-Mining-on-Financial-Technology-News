{
 "cells": [
  {
   "cell_type": "code",
   "execution_count": 32,
   "metadata": {},
   "outputs": [],
   "source": [
    "import warnings\n",
    "warnings.filterwarnings('ignore')"
   ]
  },
  {
   "cell_type": "code",
   "execution_count": 53,
   "metadata": {},
   "outputs": [],
   "source": [
    "import re\n",
    "import matplotlib\n",
    "import numpy as np\n",
    "import matplotlib.pyplot as plt\n",
    "import pandas as pd\n",
    "from sklearn.model_selection import train_test_split\n",
    "from sklearn.feature_extraction.text import TfidfVectorizer\n",
    "from sklearn.naive_bayes import MultinomialNB\n",
    "from sklearn.metrics import accuracy_score\n",
    "from sklearn.multiclass import OneVsRestClassifier\n",
    "from nltk.corpus import stopwords\n",
    "stop_words = set(stopwords.words('english'))\n",
    "from sklearn import svm\n",
    "from sklearn.linear_model import LogisticRegression\n",
    "from sklearn.pipeline import Pipeline\n",
    "import seaborn as sns\n",
    "from sklearn.model_selection import GridSearchCV\n",
    "from sklearn.metrics import classification_report\n",
    "from textblob import TextBlob"
   ]
  },
  {
   "cell_type": "code",
   "execution_count": 67,
   "metadata": {
    "scrolled": true
   },
   "outputs": [
    {
     "data": {
      "text/html": [
       "<div>\n",
       "<style scoped>\n",
       "    .dataframe tbody tr th:only-of-type {\n",
       "        vertical-align: middle;\n",
       "    }\n",
       "\n",
       "    .dataframe tbody tr th {\n",
       "        vertical-align: top;\n",
       "    }\n",
       "\n",
       "    .dataframe thead th {\n",
       "        text-align: right;\n",
       "    }\n",
       "</style>\n",
       "<table border=\"1\" class=\"dataframe\">\n",
       "  <thead>\n",
       "    <tr style=\"text-align: right;\">\n",
       "      <th></th>\n",
       "      <th>Unnamed: 0</th>\n",
       "      <th>NewsContent</th>\n",
       "      <th>author</th>\n",
       "      <th>publishedDate</th>\n",
       "      <th>title</th>\n",
       "      <th>AAPL_company</th>\n",
       "      <th>IBM_company</th>\n",
       "      <th>GOOGL_company</th>\n",
       "      <th>AMZN_company</th>\n",
       "      <th>MSFT_company</th>\n",
       "      <th>AAPL_senti</th>\n",
       "      <th>IBM_senti</th>\n",
       "      <th>GOOGL_senti</th>\n",
       "      <th>AMZN_senti</th>\n",
       "      <th>MSFT_senti</th>\n",
       "      <th>NewsTextBlob_senti</th>\n",
       "    </tr>\n",
       "  </thead>\n",
       "  <tbody>\n",
       "    <tr>\n",
       "      <th>0</th>\n",
       "      <td>0</td>\n",
       "      <td>MILAN/ROME, March 27 (Reuters) - Italian stat...</td>\n",
       "      <td>NaN</td>\n",
       "      <td>March 27, 2019, 01:22:00 PM EDT</td>\n",
       "      <td>Italian state lender seeks to broker truce bet...</td>\n",
       "      <td>0</td>\n",
       "      <td>0</td>\n",
       "      <td>0</td>\n",
       "      <td>0</td>\n",
       "      <td>0</td>\n",
       "      <td>0</td>\n",
       "      <td>0</td>\n",
       "      <td>0</td>\n",
       "      <td>0</td>\n",
       "      <td>0</td>\n",
       "      <td>0.000000</td>\n",
       "    </tr>\n",
       "    <tr>\n",
       "      <th>1</th>\n",
       "      <td>1</td>\n",
       "      <td>April 5 (Reuters) - Representatives of Venezu...</td>\n",
       "      <td>NaN</td>\n",
       "      <td>April 05, 2019, 06:23:00 PM EDT</td>\n",
       "      <td>Lawyers for Venezuela's Guaido ask U.S. court ...</td>\n",
       "      <td>0</td>\n",
       "      <td>0</td>\n",
       "      <td>0</td>\n",
       "      <td>0</td>\n",
       "      <td>0</td>\n",
       "      <td>0</td>\n",
       "      <td>0</td>\n",
       "      <td>0</td>\n",
       "      <td>0</td>\n",
       "      <td>0</td>\n",
       "      <td>-0.026667</td>\n",
       "    </tr>\n",
       "    <tr>\n",
       "      <th>2</th>\n",
       "      <td>2</td>\n",
       "      <td>By Tatiana Bautzer and Gram Slattery SAO PAUL...</td>\n",
       "      <td>NaN</td>\n",
       "      <td>April 05, 2019, 05:49:00 PM EDT</td>\n",
       "      <td>Petrobras agrees to sell pipeline unit to Engi...</td>\n",
       "      <td>0</td>\n",
       "      <td>0</td>\n",
       "      <td>0</td>\n",
       "      <td>0</td>\n",
       "      <td>0</td>\n",
       "      <td>0</td>\n",
       "      <td>0</td>\n",
       "      <td>0</td>\n",
       "      <td>0</td>\n",
       "      <td>0</td>\n",
       "      <td>-0.010278</td>\n",
       "    </tr>\n",
       "    <tr>\n",
       "      <th>3</th>\n",
       "      <td>3</td>\n",
       "      <td>Top Tech Stocks MSFT -1.59% AAPL +0.61% IBM -0...</td>\n",
       "      <td>MT Newswires</td>\n",
       "      <td>March 27, 2019, 01:18:46 PM EDT</td>\n",
       "      <td>Technology Sector Update for 03/27/2019: NTWK,...</td>\n",
       "      <td>1</td>\n",
       "      <td>0</td>\n",
       "      <td>1</td>\n",
       "      <td>0</td>\n",
       "      <td>1</td>\n",
       "      <td>1</td>\n",
       "      <td>0</td>\n",
       "      <td>-1</td>\n",
       "      <td>0</td>\n",
       "      <td>-1</td>\n",
       "      <td>-0.018604</td>\n",
       "    </tr>\n",
       "    <tr>\n",
       "      <th>4</th>\n",
       "      <td>4</td>\n",
       "      <td>By Tatiana Bautzer and Gram Slattery SAO PAUL...</td>\n",
       "      <td>NaN</td>\n",
       "      <td>April 05, 2019, 05:49:00 PM EDT</td>\n",
       "      <td>Engie bids $8.6 bln for Petrobras pipeline uni...</td>\n",
       "      <td>0</td>\n",
       "      <td>0</td>\n",
       "      <td>0</td>\n",
       "      <td>0</td>\n",
       "      <td>0</td>\n",
       "      <td>0</td>\n",
       "      <td>0</td>\n",
       "      <td>0</td>\n",
       "      <td>0</td>\n",
       "      <td>0</td>\n",
       "      <td>-0.010278</td>\n",
       "    </tr>\n",
       "  </tbody>\n",
       "</table>\n",
       "</div>"
      ],
      "text/plain": [
       "   Unnamed: 0                                        NewsContent  \\\n",
       "0           0   MILAN/ROME, March 27 (Reuters) - Italian stat...   \n",
       "1           1   April 5 (Reuters) - Representatives of Venezu...   \n",
       "2           2   By Tatiana Bautzer and Gram Slattery SAO PAUL...   \n",
       "3           3  Top Tech Stocks MSFT -1.59% AAPL +0.61% IBM -0...   \n",
       "4           4   By Tatiana Bautzer and Gram Slattery SAO PAUL...   \n",
       "\n",
       "         author                    publishedDate  \\\n",
       "0           NaN  March 27, 2019, 01:22:00 PM EDT   \n",
       "1           NaN  April 05, 2019, 06:23:00 PM EDT   \n",
       "2           NaN  April 05, 2019, 05:49:00 PM EDT   \n",
       "3  MT Newswires  March 27, 2019, 01:18:46 PM EDT   \n",
       "4           NaN  April 05, 2019, 05:49:00 PM EDT   \n",
       "\n",
       "                                               title  AAPL_company  \\\n",
       "0  Italian state lender seeks to broker truce bet...             0   \n",
       "1  Lawyers for Venezuela's Guaido ask U.S. court ...             0   \n",
       "2  Petrobras agrees to sell pipeline unit to Engi...             0   \n",
       "3  Technology Sector Update for 03/27/2019: NTWK,...             1   \n",
       "4  Engie bids $8.6 bln for Petrobras pipeline uni...             0   \n",
       "\n",
       "   IBM_company  GOOGL_company  AMZN_company  MSFT_company  AAPL_senti  \\\n",
       "0            0              0             0             0           0   \n",
       "1            0              0             0             0           0   \n",
       "2            0              0             0             0           0   \n",
       "3            0              1             0             1           1   \n",
       "4            0              0             0             0           0   \n",
       "\n",
       "   IBM_senti  GOOGL_senti  AMZN_senti  MSFT_senti  NewsTextBlob_senti  \n",
       "0          0            0           0           0            0.000000  \n",
       "1          0            0           0           0           -0.026667  \n",
       "2          0            0           0           0           -0.010278  \n",
       "3          0           -1           0          -1           -0.018604  \n",
       "4          0            0           0           0           -0.010278  "
      ]
     },
     "execution_count": 67,
     "metadata": {},
     "output_type": "execute_result"
    }
   ],
   "source": [
    "df = pd.read_csv(\"finalInput.csv\",encoding=\"ISO-8859-1\")\n",
    "\n",
    "NewsTextBlob_senti = []\n",
    "for i in df['NewsContent']:\n",
    "    sentiment = TextBlob(str(i))\n",
    "    NewsTextBlob_senti.append(sentiment.sentiment.polarity)\n",
    "df['NewsTextBlob_senti'] = NewsTextBlob_senti\n",
    "\n",
    "df.head()"
   ]
  },
  {
   "cell_type": "code",
   "execution_count": 16,
   "metadata": {},
   "outputs": [],
   "source": [
    "df_news = df.drop(['Unnamed: 0','author','publishedDate','title'], axis = 1)"
   ]
  },
  {
   "cell_type": "code",
   "execution_count": 93,
   "metadata": {},
   "outputs": [],
   "source": [
    "categories = ['AAPL_company','IBM_company','GOOGL_company','AMZN_company','MSFT_company',]\n",
    "              #'AAPL_senti','IBM_senti','GOOGL_senti','AMZN_senti','MSFT_senti']\n",
    "train,test = train_test_split(df_news,random_state=42,test_size=0.2,shuffle=True)\n",
    "x_train = train.NewsContent\n",
    "x_test = test.NewsContent\n"
   ]
  },
  {
   "cell_type": "markdown",
   "metadata": {},
   "source": [
    "# Multinomial NB"
   ]
  },
  {
   "cell_type": "code",
   "execution_count": 97,
   "metadata": {},
   "outputs": [
    {
     "name": "stdout",
     "output_type": "stream",
     "text": [
      "... Processing AAPL_company\n",
      "Tuned Best Score:  0.8991228070175439\n",
      "Tuned Best Params: {'clf__estimator__alpha': 0.5}\n",
      "Test accuracy is 0.8596491228070176\n",
      "              precision    recall  f1-score   support\n",
      "\n",
      "           0       0.76      1.00      0.86        32\n",
      "           1       1.00      0.60      0.75        25\n",
      "\n",
      "   micro avg       0.82      0.82      0.82        57\n",
      "   macro avg       0.88      0.80      0.81        57\n",
      "weighted avg       0.87      0.82      0.81        57\n",
      "\n",
      "... Processing IBM_company\n",
      "Tuned Best Score:  0.9736842105263158\n",
      "Tuned Best Params: {'clf__estimator__alpha': 0.5}\n",
      "Test accuracy is 0.9824561403508771\n",
      "              precision    recall  f1-score   support\n",
      "\n",
      "           0       0.98      1.00      0.99        41\n",
      "           1       1.00      0.94      0.97        16\n",
      "\n",
      "   micro avg       0.98      0.98      0.98        57\n",
      "   macro avg       0.99      0.97      0.98        57\n",
      "weighted avg       0.98      0.98      0.98        57\n",
      "\n",
      "... Processing GOOGL_company\n",
      "Tuned Best Score:  0.881578947368421\n",
      "Tuned Best Params: {'clf__estimator__alpha': 1.3}\n",
      "Test accuracy is 0.9298245614035088\n",
      "              precision    recall  f1-score   support\n",
      "\n",
      "           0       0.95      1.00      0.98        40\n",
      "           1       1.00      0.88      0.94        17\n",
      "\n",
      "   micro avg       0.96      0.96      0.96        57\n",
      "   macro avg       0.98      0.94      0.96        57\n",
      "weighted avg       0.97      0.96      0.96        57\n",
      "\n",
      "... Processing AMZN_company\n",
      "Tuned Best Score:  0.9122807017543859\n",
      "Tuned Best Params: {'clf__estimator__alpha': 0.5}\n",
      "Test accuracy is 0.8771929824561403\n",
      "              precision    recall  f1-score   support\n",
      "\n",
      "           0       0.86      0.72      0.78        50\n",
      "           1       0.07      0.14      0.09         7\n",
      "\n",
      "   micro avg       0.65      0.65      0.65        57\n",
      "   macro avg       0.46      0.43      0.44        57\n",
      "weighted avg       0.76      0.65      0.70        57\n",
      "\n",
      "... Processing MSFT_company\n",
      "Tuned Best Score:  0.9342105263157895\n",
      "Tuned Best Params: {'clf__estimator__alpha': 0.7}\n",
      "Test accuracy is 0.8947368421052632\n",
      "              precision    recall  f1-score   support\n",
      "\n",
      "           0       0.88      1.00      0.94        37\n",
      "           1       1.00      0.75      0.86        20\n",
      "\n",
      "   micro avg       0.91      0.91      0.91        57\n",
      "   macro avg       0.94      0.88      0.90        57\n",
      "weighted avg       0.92      0.91      0.91        57\n",
      "\n"
     ]
    }
   ],
   "source": [
    "NB_pipeline = Pipeline([\n",
    "                ('tfidf', TfidfVectorizer(stop_words=stop_words)),\n",
    "                ('clf', OneVsRestClassifier(MultinomialNB(\n",
    "                    fit_prior=True, class_prior=None))),\n",
    "            ])\n",
    "\n",
    "parametersNB = {'clf__estimator__alpha':np.linspace(0.5, 1.5, 6),\n",
    "              #'clf__estimator__prior':[True,False]\n",
    "               }\n",
    "\n",
    "cvNB = GridSearchCV(NB_pipeline,param_grid = parametersNB,cv= 5)\n",
    "\n",
    "for category in categories:\n",
    "    print('... Processing {}'.format(category))\n",
    "    cvNB.fit(x_train,train[category])\n",
    "    prediction_NB = cvNB.predict(x_test)\n",
    "    print(\"Tuned Best Score: \", cvNB.best_score_)\n",
    "    print(\"Tuned Best Params: {}\".format(cvNB.best_params_))\n",
    "    print('Test accuracy is {}'.format(accuracy_score(test[category], prediction_NB)))\n",
    "    print(classification_report(test[category],prediction))\n",
    "    "
   ]
  },
  {
   "cell_type": "markdown",
   "metadata": {},
   "source": [
    "# SVC"
   ]
  },
  {
   "cell_type": "code",
   "execution_count": 98,
   "metadata": {},
   "outputs": [
    {
     "name": "stdout",
     "output_type": "stream",
     "text": [
      "... Processing AAPL_company\n",
      "Tuned Best Score:  0.9385964912280702\n",
      "Tuned Best Params: {'clf__estimator__C': 50, 'clf__estimator__kernel': 'linear'}\n",
      "Test accuracy is 0.9473684210526315\n",
      "              precision    recall  f1-score   support\n",
      "\n",
      "           0       0.94      0.97      0.95        32\n",
      "           1       0.96      0.92      0.94        25\n",
      "\n",
      "   micro avg       0.95      0.95      0.95        57\n",
      "   macro avg       0.95      0.94      0.95        57\n",
      "weighted avg       0.95      0.95      0.95        57\n",
      "\n",
      "... Processing IBM_company\n",
      "Tuned Best Score:  0.9692982456140351\n",
      "Tuned Best Params: {'clf__estimator__C': 50, 'clf__estimator__kernel': 'linear'}\n",
      "Test accuracy is 0.9824561403508771\n",
      "              precision    recall  f1-score   support\n",
      "\n",
      "           0       0.98      1.00      0.99        41\n",
      "           1       1.00      0.94      0.97        16\n",
      "\n",
      "   micro avg       0.98      0.98      0.98        57\n",
      "   macro avg       0.99      0.97      0.98        57\n",
      "weighted avg       0.98      0.98      0.98        57\n",
      "\n",
      "... Processing GOOGL_company\n",
      "Tuned Best Score:  0.9254385964912281\n",
      "Tuned Best Params: {'clf__estimator__C': 1, 'clf__estimator__kernel': 'linear'}\n",
      "Test accuracy is 0.9649122807017544\n",
      "              precision    recall  f1-score   support\n",
      "\n",
      "           0       0.95      1.00      0.98        40\n",
      "           1       1.00      0.88      0.94        17\n",
      "\n",
      "   micro avg       0.96      0.96      0.96        57\n",
      "   macro avg       0.98      0.94      0.96        57\n",
      "weighted avg       0.97      0.96      0.96        57\n",
      "\n",
      "... Processing AMZN_company\n",
      "Tuned Best Score:  0.9385964912280702\n",
      "Tuned Best Params: {'clf__estimator__C': 1, 'clf__estimator__kernel': 'linear'}\n",
      "Test accuracy is 0.8947368421052632\n",
      "              precision    recall  f1-score   support\n",
      "\n",
      "           0       0.89      1.00      0.94        50\n",
      "           1       1.00      0.14      0.25         7\n",
      "\n",
      "   micro avg       0.89      0.89      0.89        57\n",
      "   macro avg       0.95      0.57      0.60        57\n",
      "weighted avg       0.91      0.89      0.86        57\n",
      "\n",
      "... Processing MSFT_company\n",
      "Tuned Best Score:  0.9517543859649122\n",
      "Tuned Best Params: {'clf__estimator__C': 1, 'clf__estimator__kernel': 'linear'}\n",
      "Test accuracy is 0.9122807017543859\n",
      "              precision    recall  f1-score   support\n",
      "\n",
      "           0       0.88      1.00      0.94        37\n",
      "           1       1.00      0.75      0.86        20\n",
      "\n",
      "   micro avg       0.91      0.91      0.91        57\n",
      "   macro avg       0.94      0.88      0.90        57\n",
      "weighted avg       0.92      0.91      0.91        57\n",
      "\n"
     ]
    }
   ],
   "source": [
    "SVC_pipeline = Pipeline([\n",
    "                ('tfidf', TfidfVectorizer(stop_words=stop_words)),\n",
    "                ('clf', OneVsRestClassifier(svm.SVC(), n_jobs=1)),\n",
    "            ])\n",
    "parameters = {'clf__estimator__kernel':('linear','rbf','sigmoid','poly'),\n",
    "              'clf__estimator__C':[1,50]}\n",
    "\n",
    "cv = GridSearchCV(SVC_pipeline,param_grid = parameters,cv=5)\n",
    "\n",
    "for category in categories:\n",
    "    print('... Processing {}'.format(category))\n",
    "    cv.fit(x_train,train[category])\n",
    "    prediction = cv.predict(x_test)\n",
    "    print(\"Tuned Best Score: \", cv.best_score_)\n",
    "    print(\"Tuned Best Params: {}\".format(cv.best_params_))\n",
    "    print('Test accuracy is {}'.format(accuracy_score(test[category], prediction)))\n",
    "    print(classification_report(test[category],prediction))"
   ]
  },
  {
   "cell_type": "markdown",
   "metadata": {},
   "source": [
    "# Predict"
   ]
  },
  {
   "cell_type": "code",
   "execution_count": 102,
   "metadata": {},
   "outputs": [
    {
     "name": "stdout",
     "output_type": "stream",
     "text": [
      "... Processing AAPL_company\n",
      "... Processing IBM_company\n",
      "... Processing GOOGL_company\n",
      "... Processing AMZN_company\n",
      "... Processing MSFT_company\n"
     ]
    }
   ],
   "source": [
    "df_predict = pd.read_csv(\"new20190421_predict.csv\",encoding=\"ISO-8859-1\")\n",
    "predict_result = []\n",
    "for category in categories:\n",
    "    print('... Processing {}'.format(category))\n",
    "    cv.fit(x_train,train[category])\n",
    "    predicationTest = cv.predict(df_predict.NewsContent)\n",
    "    predict_result.append(predicationTest)\n",
    "    #print('Test result is {}'.format(predicationTest))"
   ]
  },
  {
   "cell_type": "code",
   "execution_count": 146,
   "metadata": {},
   "outputs": [],
   "source": [
    "predict = pd.DataFrame(predict_result)\n",
    "predict = predict.T"
   ]
  },
  {
   "cell_type": "code",
   "execution_count": 147,
   "metadata": {},
   "outputs": [],
   "source": [
    "predict = predict.rename(index=str, columns={0: \"APPL_company\", 1: \"IBM_company\",\n",
    "                                             2:\"GOOGL_company\",3:\"AMZN_company\",4:\"MSFT_company\"})\n",
    "predict= predict.reset_index()\n",
    "df_predict= df_predict.reset_index()\n",
    "predictResult = pd.concat([df_predict,predict],axis=1)\n",
    "predictResult.head() "
   ]
  },
  {
   "cell_type": "code",
   "execution_count": 150,
   "metadata": {},
   "outputs": [],
   "source": [
    "predictResult.to_csv('predictResult.csv')"
   ]
  },
  {
   "cell_type": "code",
   "execution_count": 1,
   "metadata": {},
   "outputs": [],
   "source": [
    "import pandas as pd\n",
    "import matplotlib.pyplot as plt\n",
    "import seaborn as sns"
   ]
  },
  {
   "cell_type": "code",
   "execution_count": 2,
   "metadata": {},
   "outputs": [
    {
     "data": {
      "text/html": [
       "<div>\n",
       "<style scoped>\n",
       "    .dataframe tbody tr th:only-of-type {\n",
       "        vertical-align: middle;\n",
       "    }\n",
       "\n",
       "    .dataframe tbody tr th {\n",
       "        vertical-align: top;\n",
       "    }\n",
       "\n",
       "    .dataframe thead th {\n",
       "        text-align: right;\n",
       "    }\n",
       "</style>\n",
       "<table border=\"1\" class=\"dataframe\">\n",
       "  <thead>\n",
       "    <tr style=\"text-align: right;\">\n",
       "      <th></th>\n",
       "      <th>COMPANY</th>\n",
       "      <th>CLASS</th>\n",
       "      <th>MODEL</th>\n",
       "      <th>F1-SCORE</th>\n",
       "    </tr>\n",
       "  </thead>\n",
       "  <tbody>\n",
       "    <tr>\n",
       "      <th>0</th>\n",
       "      <td>APPL</td>\n",
       "      <td>0</td>\n",
       "      <td>NB</td>\n",
       "      <td>0.86</td>\n",
       "    </tr>\n",
       "    <tr>\n",
       "      <th>1</th>\n",
       "      <td>APPL</td>\n",
       "      <td>1</td>\n",
       "      <td>NB</td>\n",
       "      <td>0.75</td>\n",
       "    </tr>\n",
       "    <tr>\n",
       "      <th>2</th>\n",
       "      <td>APPL</td>\n",
       "      <td>0</td>\n",
       "      <td>SVC</td>\n",
       "      <td>0.95</td>\n",
       "    </tr>\n",
       "    <tr>\n",
       "      <th>3</th>\n",
       "      <td>APPL</td>\n",
       "      <td>1</td>\n",
       "      <td>SVC</td>\n",
       "      <td>0.94</td>\n",
       "    </tr>\n",
       "    <tr>\n",
       "      <th>4</th>\n",
       "      <td>GOOGL</td>\n",
       "      <td>0</td>\n",
       "      <td>SVC</td>\n",
       "      <td>0.98</td>\n",
       "    </tr>\n",
       "  </tbody>\n",
       "</table>\n",
       "</div>"
      ],
      "text/plain": [
       "  COMPANY CLASS MODEL  F1-SCORE\n",
       "0    APPL     0    NB      0.86\n",
       "1    APPL     1    NB      0.75\n",
       "2    APPL     0   SVC      0.95\n",
       "3    APPL     1   SVC      0.94\n",
       "4   GOOGL     0   SVC      0.98"
      ]
     },
     "execution_count": 2,
     "metadata": {},
     "output_type": "execute_result"
    }
   ],
   "source": [
    "f1 = pd.read_csv('F1SCORE.csv')\n",
    "f1[['CLASS'] ]= f1[['CLASS']].astype('str')\n",
    "f1.head()"
   ]
  },
  {
   "cell_type": "code",
   "execution_count": 3,
   "metadata": {},
   "outputs": [
    {
     "data": {
      "image/png": "[encoded data removed]",
      "text/plain": [
       "<Figure size 640x400 with 1 Axes>"
      ]
     },
     "metadata": {
      "needs_background": "light"
     },
     "output_type": "display_data"
    }
   ],
   "source": [
    "plt.figure(figsize=(8,5),dpi=80)\n",
    "ax =  sns.scatterplot(x='COMPANY',y = 'F1-SCORE',hue = 'MODEL',data = f1,palette='muted')\n",
    "plt.title('Model-based Performance of Two Models')\n",
    "plt.show()"
   ]
  },
  {
   "cell_type": "code",
   "execution_count": 4,
   "metadata": {},
   "outputs": [
    {
     "data": {
      "image/png": "[encoded data removed]",
      "text/plain": [
       "<Figure size 640x400 with 1 Axes>"
      ]
     },
     "metadata": {
      "needs_background": "light"
     },
     "output_type": "display_data"
    }
   ],
   "source": [
    "plt.figure(figsize=(8,5),dpi=80)\n",
    "ax =  sns.barplot(x='COMPANY',y = 'F1-SCORE',hue = 'MODEL',data = f1,palette='muted')\n",
    "plt.title('Model-based Performance of Two Models')\n",
    "plt.show()"
   ]
  },
  {
   "cell_type": "code",
   "execution_count": 5,
   "metadata": {},
   "outputs": [
    {
     "data": {
      "image/png": "[encoded data removed]",
      "text/plain": [
       "<Figure size 640x400 with 1 Axes>"
      ]
     },
     "metadata": {
      "needs_background": "light"
     },
     "output_type": "display_data"
    }
   ],
   "source": [
    "plt.figure(figsize=(8,5),dpi=80)\n",
    "ax =  sns.barplot(x='COMPANY',y = 'F1-SCORE',hue = 'CLASS',data = f1,palette='muted')\n",
    "plt.title('Class-based Performance of Two Models')\n",
    "plt.show()"
   ]
  }
 ],
 "metadata": {
  "kernelspec": {
   "display_name": "Python 3",
   "language": "python",
   "name": "python3"
  },
  "language_info": {
   "codemirror_mode": {
    "name": "ipython",
    "version": 3
   },
   "file_extension": ".py",
   "mimetype": "text/x-python",
   "name": "python",
   "nbconvert_exporter": "python",
   "pygments_lexer": "ipython3",
   "version": "3.7.3"
  }
 },
 "nbformat": 4,
 "nbformat_minor": 2
}
