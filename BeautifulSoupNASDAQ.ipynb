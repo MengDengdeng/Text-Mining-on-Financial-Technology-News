{
 "cells": [
  {
   "cell_type": "code",
   "execution_count": 1,
   "metadata": {},
   "outputs": [],
   "source": [
    "import requests\n",
    "from bs4 import BeautifulSoup\n",
    "import pandas as pd\n"
   ]
  },
  {
   "cell_type": "code",
   "execution_count": 2,
   "metadata": {
    "scrolled": true
   },
   "outputs": [],
   "source": [
    "link = ['https://www.nasdaq.com/topic/technology?page=1',\n",
    "        'https://www.nasdaq.com/topic/technology?page=2',\n",
    "        'https://www.nasdaq.com/topic/technology?page=3',\n",
    "        'https://www.nasdaq.com/topic/technology?page=4',\n",
    "        'https://www.nasdaq.com/topic/technology?page=5',\n",
    "        'https://www.nasdaq.com/topic/technology?page=6',\n",
    "        'https://www.nasdaq.com/topic/technology?page=7']\n",
    "NewsLink = []        \n",
    "for i in range(0,len(link)):\n",
    "    reslist = requests.get(link[i])\n",
    "    reslist.encoding = 'utf-8'\n",
    "    listsoup = BeautifulSoup(reslist.text,'html.parser')\n",
    "    productDivs = listsoup.findAll('section', attrs={'class' : 'article-category-section'})\n",
    "    for section in productDivs:\n",
    "        NewsLink.append(section.a['href'])"
   ]
  },
  {
   "cell_type": "code",
   "execution_count": 3,
   "metadata": {},
   "outputs": [],
   "source": [
    "# create a function generate NewsInfo based on \n",
    "def getNews(newsurl):\n",
    "    result = {}\n",
    "    res = requests.get(newsurl)\n",
    "    res.encoding = 'utf-8'\n",
    "    soup = BeautifulSoup(res.text, 'html.parser')\n",
    "    result['title'] = soup.select('.article-header')[0].text\n",
    "    result['publishedDate']= ' '.join([span.string for span in soup.find_all('span',itemprop = 'datePublished')])\n",
    "    result['author'] = ' '.join([span.text for span in soup.find_all('a',attrs = {'rel' : 'author'})])\n",
    "    result['NewsContent'] = ' '.join([p.text.strip() for p in soup.select('#articlebody p')[:-2]])\n",
    "    return result\n"
   ]
  },
  {
   "cell_type": "code",
   "execution_count": 4,
   "metadata": {},
   "outputs": [],
   "source": [
    "text =[]\n",
    "for i in range(0, len(NewsLink)):\n",
    "    content = getNews(NewsLink[i]) \n",
    "    text.append(content)\n"
   ]
  },
  {
   "cell_type": "code",
   "execution_count": 5,
   "metadata": {},
   "outputs": [],
   "source": [
    "df = pd.DataFrame(data=text)\n",
    "df.to_csv('new20190327.csv')\n",
    "    "
   ]
  },
  {
   "cell_type": "code",
   "execution_count": null,
   "metadata": {},
   "outputs": [],
   "source": []
  },
  {
   "cell_type": "code",
   "execution_count": null,
   "metadata": {},
   "outputs": [],
   "source": []
  },
  {
   "cell_type": "code",
   "execution_count": null,
   "metadata": {},
   "outputs": [],
   "source": []
  },
  {
   "cell_type": "code",
   "execution_count": null,
   "metadata": {},
   "outputs": [],
   "source": [
    "\n"
   ]
  },
  {
   "cell_type": "code",
   "execution_count": null,
   "metadata": {},
   "outputs": [],
   "source": []
  },
  {
   "cell_type": "code",
   "execution_count": null,
   "metadata": {},
   "outputs": [],
   "source": [
    "   "
   ]
  },
  {
   "cell_type": "code",
   "execution_count": null,
   "metadata": {},
   "outputs": [],
   "source": []
  },
  {
   "cell_type": "code",
   "execution_count": null,
   "metadata": {},
   "outputs": [],
   "source": []
  },
  {
   "cell_type": "code",
   "execution_count": null,
   "metadata": {
    "scrolled": true
   },
   "outputs": [],
   "source": []
  },
  {
   "cell_type": "code",
   "execution_count": null,
   "metadata": {},
   "outputs": [],
   "source": []
  },
  {
   "cell_type": "code",
   "execution_count": 6,
   "metadata": {},
   "outputs": [],
   "source": []
  },
  {
   "cell_type": "code",
   "execution_count": 7,
   "metadata": {},
   "outputs": [],
   "source": []
  },
  {
   "cell_type": "code",
   "execution_count": null,
   "metadata": {},
   "outputs": [],
   "source": []
  }
 ],
 "metadata": {
  "kernelspec": {
   "display_name": "Python 3",
   "language": "python",
   "name": "python3"
  },
  "language_info": {
   "codemirror_mode": {
    "name": "ipython",
    "version": 3
   },
   "file_extension": ".py",
   "mimetype": "text/x-python",
   "name": "python",
   "nbconvert_exporter": "python",
   "pygments_lexer": "ipython3",
   "version": "3.7.3"
  }
 },
 "nbformat": 4,
 "nbformat_minor": 2
}
